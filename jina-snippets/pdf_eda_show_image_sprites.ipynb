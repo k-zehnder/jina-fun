{
 "cells": [
  {
   "cell_type": "code",
   "execution_count": null,
   "id": "confident-desire",
   "metadata": {},
   "outputs": [],
   "source": [
    "!pip install -U jina docarray matplotlib"
   ]
  },
  {
   "cell_type": "code",
   "execution_count": 24,
   "id": "eleven-raise",
   "metadata": {},
   "outputs": [
    {
     "data": {
      "text/html": [
       "<pre style=\"white-space:pre;overflow-x:auto;line-height:normal;font-family:Menlo,'DejaVu Sans Mono',consolas,'Courier New',monospace\"></pre>\n"
      ],
      "text/plain": []
     },
     "metadata": {},
     "output_type": "display_data"
    },
    {
     "data": {
      "text/html": [
       "<pre style=\"white-space:pre;overflow-x:auto;line-height:normal;font-family:Menlo,'DejaVu Sans Mono',consolas,'Courier New',monospace\"></pre>\n"
      ],
      "text/plain": []
     },
     "metadata": {},
     "output_type": "display_data"
    },
    {
     "name": "stderr",
     "output_type": "stream",
     "text": [
      "\u001b[1;33mUserWarning: \n",
      "            pdf_segmenter shadows one of built-in Python module name.\n",
      "            It is imported as `user_module.pdf_segmenter`\n",
      "\n",
      "            Affects:\n",
      "            - Either, change your code from using `from pdf_segmenter import ...`\n",
      "              to `from user_module.pdf_segmenter import ...`\n",
      "            - Or, rename pdf_segmenter to another name\n",
      "            \u001b[0m \u001b[1;30m(raised from /home/plusplusaviator/Desktop/python/jina-fun/venv/lib/python3.8/site-packages/jina/importer.py:111)\u001b[0m\n"
     ]
    },
    {
     "data": {
      "text/html": [
       "<pre style=\"white-space:pre;overflow-x:auto;line-height:normal;font-family:Menlo,'DejaVu Sans Mono',consolas,'Courier New',monospace\"></pre>\n"
      ],
      "text/plain": []
     },
     "metadata": {},
     "output_type": "display_data"
    },
    {
     "data": {
      "text/html": [
       "<pre style=\"white-space:pre;overflow-x:auto;line-height:normal;font-family:Menlo,'DejaVu Sans Mono',consolas,'Courier New',monospace\">\n",
       "</pre>\n"
      ],
      "text/plain": [
       "\n"
      ]
     },
     "metadata": {},
     "output_type": "display_data"
    },
    {
     "data": {
      "text/html": [
       "<pre style=\"white-space:pre;overflow-x:auto;line-height:normal;font-family:Menlo,'DejaVu Sans Mono',consolas,'Courier New',monospace\">╭───── 🎉 <span style=\"font-weight: bold\">Flow is ready to serve!</span> ─────╮\n",
       "│  🔗  Protocol                GRPC    │\n",
       "│  🏠     Local       <a href=\"grpc://0.0.0.0:57780\" target=\"_blank\"><span style=\"color: #00ff00; text-decoration-color: #00ff00; font-weight: bold\">0.0.0.0</span></a><a href=\"grpc://0.0.0.0:57780\" target=\"_blank\">:</a><a href=\"grpc://0.0.0.0:57780\" target=\"_blank\"><span style=\"color: #008080; text-decoration-color: #008080; font-weight: bold\">57780</span></a>    │\n",
       "│  🔒   Private    <a href=\"grpc://10.0.0.227:57780\" target=\"_blank\"><span style=\"color: #00ff00; text-decoration-color: #00ff00; font-weight: bold\">10.0.0.227</span></a><a href=\"grpc://10.0.0.227:57780\" target=\"_blank\">:</a><a href=\"grpc://10.0.0.227:57780\" target=\"_blank\"><span style=\"color: #008080; text-decoration-color: #008080; font-weight: bold\">57780</span></a>    │\n",
       "│  🌍    Public  <a href=\"grpc://24.4.218.237:57780\" target=\"_blank\"><span style=\"color: #00ff00; text-decoration-color: #00ff00; font-weight: bold\">24.4.218.237</span></a><a href=\"grpc://24.4.218.237:57780\" target=\"_blank\">:</a><a href=\"grpc://24.4.218.237:57780\" target=\"_blank\"><span style=\"color: #008080; text-decoration-color: #008080; font-weight: bold\">57780</span></a>    │\n",
       "╰──────────────────────────────────────╯\n",
       "</pre>\n"
      ],
      "text/plain": [
       "╭───── 🎉 \u001b[1mFlow is ready to serve!\u001b[0m ─────╮\n",
       "│  🔗  Protocol                GRPC    │\n",
       "│  🏠     Local       \u001b]8;id=675459;grpc://0.0.0.0:57780\u001b\\\u001b[1;92m0.0.0.0\u001b[0m\u001b]8;;\u001b\\\u001b]8;id=675459;grpc://0.0.0.0:57780\u001b\\:\u001b]8;;\u001b\\\u001b]8;id=675459;grpc://0.0.0.0:57780\u001b\\\u001b[1;36m57780\u001b[0m\u001b]8;;\u001b\\    │\n",
       "│  🔒   Private    \u001b]8;id=108221;grpc://10.0.0.227:57780\u001b\\\u001b[1;92m10.0.0.227\u001b[0m\u001b]8;;\u001b\\\u001b]8;id=108221;grpc://10.0.0.227:57780\u001b\\:\u001b]8;;\u001b\\\u001b]8;id=108221;grpc://10.0.0.227:57780\u001b\\\u001b[1;36m57780\u001b[0m\u001b]8;;\u001b\\    │\n",
       "│  🌍    Public  \u001b]8;id=858988;grpc://24.4.218.237:57780\u001b\\\u001b[1;92m24.4.218.237\u001b[0m\u001b]8;;\u001b\\\u001b]8;id=858988;grpc://24.4.218.237:57780\u001b\\:\u001b]8;;\u001b\\\u001b]8;id=858988;grpc://24.4.218.237:57780\u001b\\\u001b[1;36m57780\u001b[0m\u001b]8;;\u001b\\    │\n",
       "╰──────────────────────────────────────╯\n"
      ]
     },
     "metadata": {},
     "output_type": "display_data"
    },
    {
     "data": {
      "text/html": [
       "<pre style=\"white-space:pre;overflow-x:auto;line-height:normal;font-family:Menlo,'DejaVu Sans Mono',consolas,'Courier New',monospace\">\n",
       "</pre>\n"
      ],
      "text/plain": [
       "\n"
      ]
     },
     "metadata": {},
     "output_type": "display_data"
    },
    {
     "name": "stdout",
     "output_type": "stream",
     "text": [
      "<DocumentArray (length=2) at 139813745429472>\n",
      "<class 'docarray.array.memory.DocumentArrayInMemory'>\n",
      "2\n",
      ">pdf #: 0 - mime_type: image/*\n",
      ">pdf #: 0 - mime_type: image/*\n",
      ">pdf #: 0 - mime_type: text/plain\n",
      ">pdf #: 1 - mime_type: image/*\n",
      ">pdf #: 1 - mime_type: text/plain\n",
      ">pdf #: 1 - mime_type: text/plain\n",
      ">pdf #: 1 - mime_type: text/plain\n",
      ">pdf #: 1 - mime_type: text/plain\n"
     ]
    },
    {
     "data": {
      "text/html": [
       "<pre style=\"white-space:pre;overflow-x:auto;line-height:normal;font-family:Menlo,'DejaVu Sans Mono',consolas,'Courier New',monospace\">╭──────────────────────── Documents Summary ─────────────────────────╮\n",
       "│                                                                    │\n",
       "│   Length                    <span style=\"color: #008080; text-decoration-color: #008080; font-weight: bold\">2</span>                                      │\n",
       "│   Homogenous Documents      <span style=\"color: #00ff00; text-decoration-color: #00ff00; font-style: italic\">True</span>                                   │\n",
       "│   Has nested Documents in   <span style=\"font-weight: bold\">(</span><span style=\"color: #008000; text-decoration-color: #008000\">'chunks'</span>,<span style=\"font-weight: bold\">)</span>                            │\n",
       "│   Common Attributes         <span style=\"font-weight: bold\">(</span><span style=\"color: #008000; text-decoration-color: #008000\">'id'</span>, <span style=\"color: #008000; text-decoration-color: #008000\">'mime_type'</span>, <span style=\"color: #008000; text-decoration-color: #008000\">'uri'</span>, <span style=\"color: #008000; text-decoration-color: #008000\">'chunks'</span><span style=\"font-weight: bold\">)</span>   │\n",
       "│   Multimodal dataclass      <span style=\"color: #ff0000; text-decoration-color: #ff0000; font-style: italic\">False</span>                                  │\n",
       "│                                                                    │\n",
       "╰────────────────────────────────────────────────────────────────────╯\n",
       "╭──────────────────────── Attributes Summary ────────────────────────╮\n",
       "│                                                                    │\n",
       "│  <span style=\"font-weight: bold\"> Attribute </span> <span style=\"font-weight: bold\"> Data type       </span> <span style=\"font-weight: bold\"> #Unique values </span> <span style=\"font-weight: bold\"> Has empty value </span>  │\n",
       "│  ────────────────────────────────────────────────────────────────  │\n",
       "│   chunks      <span style=\"font-weight: bold\">(</span><span style=\"color: #008000; text-decoration-color: #008000\">'ChunkArray'</span>,<span style=\"font-weight: bold\">)</span>   <span style=\"color: #008080; text-decoration-color: #008080; font-weight: bold\">2</span>                <span style=\"color: #ff0000; text-decoration-color: #ff0000; font-style: italic\">False</span>             │\n",
       "│   id          <span style=\"font-weight: bold\">(</span><span style=\"color: #008000; text-decoration-color: #008000\">'str'</span>,<span style=\"font-weight: bold\">)</span>          <span style=\"color: #008080; text-decoration-color: #008080; font-weight: bold\">2</span>                <span style=\"color: #ff0000; text-decoration-color: #ff0000; font-style: italic\">False</span>             │\n",
       "│   mime_type   <span style=\"font-weight: bold\">(</span><span style=\"color: #008000; text-decoration-color: #008000\">'str'</span>,<span style=\"font-weight: bold\">)</span>          <span style=\"color: #008080; text-decoration-color: #008080; font-weight: bold\">1</span>                <span style=\"color: #ff0000; text-decoration-color: #ff0000; font-style: italic\">False</span>             │\n",
       "│   uri         <span style=\"font-weight: bold\">(</span><span style=\"color: #008000; text-decoration-color: #008000\">'str'</span>,<span style=\"font-weight: bold\">)</span>          <span style=\"color: #008080; text-decoration-color: #008080; font-weight: bold\">2</span>                <span style=\"color: #ff0000; text-decoration-color: #ff0000; font-style: italic\">False</span>             │\n",
       "│                                                                    │\n",
       "╰────────────────────────────────────────────────────────────────────╯\n",
       "</pre>\n"
      ],
      "text/plain": [
       "╭──────────────────────── Documents Summary ─────────────────────────╮\n",
       "│                                                                    │\n",
       "│   Length                    \u001b[1;36m2\u001b[0m                                      │\n",
       "│   Homogenous Documents      \u001b[3;92mTrue\u001b[0m                                   │\n",
       "│   Has nested Documents in   \u001b[1m(\u001b[0m\u001b[32m'chunks'\u001b[0m,\u001b[1m)\u001b[0m                            │\n",
       "│   Common Attributes         \u001b[1m(\u001b[0m\u001b[32m'id'\u001b[0m, \u001b[32m'mime_type'\u001b[0m, \u001b[32m'uri'\u001b[0m, \u001b[32m'chunks'\u001b[0m\u001b[1m)\u001b[0m   │\n",
       "│   Multimodal dataclass      \u001b[3;91mFalse\u001b[0m                                  │\n",
       "│                                                                    │\n",
       "╰────────────────────────────────────────────────────────────────────╯\n",
       "╭──────────────────────── Attributes Summary ────────────────────────╮\n",
       "│                                                                    │\n",
       "│  \u001b[1m \u001b[0m\u001b[1mAttribute\u001b[0m\u001b[1m \u001b[0m \u001b[1m \u001b[0m\u001b[1mData type      \u001b[0m\u001b[1m \u001b[0m \u001b[1m \u001b[0m\u001b[1m#Unique values\u001b[0m\u001b[1m \u001b[0m \u001b[1m \u001b[0m\u001b[1mHas empty value\u001b[0m\u001b[1m \u001b[0m  │\n",
       "│  ────────────────────────────────────────────────────────────────  │\n",
       "│   chunks      \u001b[1m(\u001b[0m\u001b[32m'ChunkArray'\u001b[0m,\u001b[1m)\u001b[0m   \u001b[1;36m2\u001b[0m                \u001b[3;91mFalse\u001b[0m             │\n",
       "│   id          \u001b[1m(\u001b[0m\u001b[32m'str'\u001b[0m,\u001b[1m)\u001b[0m          \u001b[1;36m2\u001b[0m                \u001b[3;91mFalse\u001b[0m             │\n",
       "│   mime_type   \u001b[1m(\u001b[0m\u001b[32m'str'\u001b[0m,\u001b[1m)\u001b[0m          \u001b[1;36m1\u001b[0m                \u001b[3;91mFalse\u001b[0m             │\n",
       "│   uri         \u001b[1m(\u001b[0m\u001b[32m'str'\u001b[0m,\u001b[1m)\u001b[0m          \u001b[1;36m2\u001b[0m                \u001b[3;91mFalse\u001b[0m             │\n",
       "│                                                                    │\n",
       "╰────────────────────────────────────────────────────────────────────╯\n"
      ]
     },
     "metadata": {},
     "output_type": "display_data"
    },
    {
     "name": "stdout",
     "output_type": "stream",
     "text": [
      "--\n",
      "\n",
      "\n",
      "\n"
     ]
    },
    {
     "data": {
      "text/html": [
       "<pre style=\"white-space:pre;overflow-x:auto;line-height:normal;font-family:Menlo,'DejaVu Sans Mono',consolas,'Courier New',monospace\">📄 <span style=\"font-weight: bold\">Document</span>: <span style=\"color: #008080; text-decoration-color: #008080\">d2259d69bcd27dcafc79bad7ff1dbf32</span>\n",
       "╭───────────┬──────────────────────────────────────────────────────────────────╮\n",
       "│<span style=\"font-weight: bold\"> Attribute </span>│<span style=\"font-weight: bold\"> Value                                                            </span>│\n",
       "├───────────┼──────────────────────────────────────────────────────────────────┤\n",
       "│ mime_type │ application/pdf                                                  │\n",
       "│ uri       │ <span style=\"color: #800080; text-decoration-color: #800080\">/home/plusplusaviator/Desktop/python/jina-fun/jina-slack-snippe…</span> │\n",
       "╰───────────┴──────────────────────────────────────────────────────────────────╯\n",
       "└── 💠 <span style=\"font-weight: bold\">Chunks</span>\n",
       "    ├── 📄 <span style=\"font-weight: bold\">Document</span>: <span style=\"color: #008080; text-decoration-color: #008080\">4a713c26a0f24f861b9ce536714dc409</span>\n",
       "    │   ╭─────────────┬────────────────────────────────────────────────────────────────╮\n",
       "    │   │<span style=\"font-weight: bold\"> Attribute   </span>│<span style=\"font-weight: bold\"> Value                                                          </span>│\n",
       "    │   ├─────────────┼────────────────────────────────────────────────────────────────┤\n",
       "    │   │ parent_id   │ d2259d69bcd27dcafc79bad7ff1dbf32                               │\n",
       "    │   │ granularity │ <span style=\"color: #008080; text-decoration-color: #008080; font-weight: bold\">1</span>                                                              │\n",
       "    │   │ tensor      │ <span style=\"font-weight: bold\">&lt;</span><span style=\"color: #ff00ff; text-decoration-color: #ff00ff; font-weight: bold\">class</span><span style=\"color: #000000; text-decoration-color: #000000\"> </span><span style=\"color: #008000; text-decoration-color: #008000\">'numpy.ndarray'</span><span style=\"font-weight: bold\">&gt;</span> in shape <span style=\"font-weight: bold\">(</span><span style=\"color: #008080; text-decoration-color: #008080; font-weight: bold\">660</span>, <span style=\"color: #008080; text-decoration-color: #008080; font-weight: bold\">1024</span>, <span style=\"color: #008080; text-decoration-color: #008080; font-weight: bold\">3</span><span style=\"font-weight: bold\">)</span>, dtype:        │\n",
       "    │   │             │ float32                                                        │\n",
       "    │   │ mime_type   │ image/*                                                        │\n",
       "    │   ╰─────────────┴────────────────────────────────────────────────────────────────╯\n",
       "    ├── 📄 <span style=\"font-weight: bold\">Document</span>: <span style=\"color: #008080; text-decoration-color: #008080\">e7476babab7070a5323baa744b23a648</span>\n",
       "    │   ╭─────────────┬────────────────────────────────────────────────────────────────╮\n",
       "    │   │<span style=\"font-weight: bold\"> Attribute   </span>│<span style=\"font-weight: bold\"> Value                                                          </span>│\n",
       "    │   ├─────────────┼────────────────────────────────────────────────────────────────┤\n",
       "    │   │ parent_id   │ d2259d69bcd27dcafc79bad7ff1dbf32                               │\n",
       "    │   │ granularity │ <span style=\"color: #008080; text-decoration-color: #008080; font-weight: bold\">1</span>                                                              │\n",
       "    │   │ tensor      │ <span style=\"font-weight: bold\">&lt;</span><span style=\"color: #ff00ff; text-decoration-color: #ff00ff; font-weight: bold\">class</span><span style=\"color: #000000; text-decoration-color: #000000\"> </span><span style=\"color: #008000; text-decoration-color: #008000\">'numpy.ndarray'</span><span style=\"font-weight: bold\">&gt;</span> in shape <span style=\"font-weight: bold\">(</span><span style=\"color: #008080; text-decoration-color: #008080; font-weight: bold\">626</span>, <span style=\"color: #008080; text-decoration-color: #008080; font-weight: bold\">1191</span>, <span style=\"color: #008080; text-decoration-color: #008080; font-weight: bold\">3</span><span style=\"font-weight: bold\">)</span>, dtype:        │\n",
       "    │   │             │ float32                                                        │\n",
       "    │   │ mime_type   │ image/*                                                        │\n",
       "    │   ╰─────────────┴────────────────────────────────────────────────────────────────╯\n",
       "    └── 📄 <span style=\"font-weight: bold\">Document</span>: <span style=\"color: #008080; text-decoration-color: #008080\">c7b451b4fd3bff885fd9a1225cef378b</span>\n",
       "        ╭──────────────────┬───────────────────────────────────────────────────────────╮\n",
       "        │<span style=\"font-weight: bold\"> Attribute        </span>│<span style=\"font-weight: bold\"> Value                                                     </span>│\n",
       "        ├──────────────────┼───────────────────────────────────────────────────────────┤\n",
       "        │ parent_id        │ d2259d69bcd27dcafc79bad7ff1dbf32                          │\n",
       "        │ granularity      │ <span style=\"color: #008080; text-decoration-color: #008080; font-weight: bold\">1</span>                                                         │\n",
       "        │ mime_type        │ text/plain                                                │\n",
       "        │ text             │ A cat poem                                                │\n",
       "        │                  │ I love cats, I love every kind of cat,                    │\n",
       "        │                  │ I just wanna hug all of them, but I can't,                │\n",
       "        │                  │ I'm thi<span style=\"color: #808000; text-decoration-color: #808000\">...</span> <span style=\"color: #7f7f7f; text-decoration-color: #7f7f7f; font-weight: bold\">(</span><span style=\"color: #7f7f7f; text-decoration-color: #7f7f7f\">length: </span><span style=\"color: #7fbfbf; text-decoration-color: #7fbfbf; font-weight: bold\">188</span><span style=\"color: #7f7f7f; text-decoration-color: #7f7f7f; font-weight: bold\">)</span>                                  │\n",
       "        ╰──────────────────┴───────────────────────────────────────────────────────────╯\n",
       "</pre>\n"
      ],
      "text/plain": [
       "📄 \u001b[1mDocument\u001b[0m: \u001b[36md2259d69bcd27dcafc79bad7ff1dbf32\u001b[0m\n",
       "╭───────────┬──────────────────────────────────────────────────────────────────╮\n",
       "│\u001b[1m \u001b[0m\u001b[1mAttribute\u001b[0m\u001b[1m \u001b[0m│\u001b[1m \u001b[0m\u001b[1mValue                                                           \u001b[0m\u001b[1m \u001b[0m│\n",
       "├───────────┼──────────────────────────────────────────────────────────────────┤\n",
       "│ mime_type │ application/pdf                                                  │\n",
       "│ uri       │ \u001b[35m/home/plusplusaviator/Desktop/python/jina-fun/jina-slack-snippe…\u001b[0m │\n",
       "╰───────────┴──────────────────────────────────────────────────────────────────╯\n",
       "└── 💠 \u001b[1mChunks\u001b[0m\n",
       "    ├── 📄 \u001b[1mDocument\u001b[0m: \u001b[36m4a713c26a0f24f861b9ce536714dc409\u001b[0m\n",
       "    │   ╭─────────────┬────────────────────────────────────────────────────────────────╮\n",
       "    │   │\u001b[1m \u001b[0m\u001b[1mAttribute  \u001b[0m\u001b[1m \u001b[0m│\u001b[1m \u001b[0m\u001b[1mValue                                                         \u001b[0m\u001b[1m \u001b[0m│\n",
       "    │   ├─────────────┼────────────────────────────────────────────────────────────────┤\n",
       "    │   │ parent_id   │ d2259d69bcd27dcafc79bad7ff1dbf32                               │\n",
       "    │   │ granularity │ \u001b[1;36m1\u001b[0m                                                              │\n",
       "    │   │ tensor      │ \u001b[1m<\u001b[0m\u001b[1;95mclass\u001b[0m\u001b[39m \u001b[0m\u001b[32m'numpy.ndarray'\u001b[0m\u001b[1m>\u001b[0m in shape \u001b[1m(\u001b[0m\u001b[1;36m660\u001b[0m, \u001b[1;36m1024\u001b[0m, \u001b[1;36m3\u001b[0m\u001b[1m)\u001b[0m, dtype:        │\n",
       "    │   │             │ float32                                                        │\n",
       "    │   │ mime_type   │ image/*                                                        │\n",
       "    │   ╰─────────────┴────────────────────────────────────────────────────────────────╯\n",
       "    ├── 📄 \u001b[1mDocument\u001b[0m: \u001b[36me7476babab7070a5323baa744b23a648\u001b[0m\n",
       "    │   ╭─────────────┬────────────────────────────────────────────────────────────────╮\n",
       "    │   │\u001b[1m \u001b[0m\u001b[1mAttribute  \u001b[0m\u001b[1m \u001b[0m│\u001b[1m \u001b[0m\u001b[1mValue                                                         \u001b[0m\u001b[1m \u001b[0m│\n",
       "    │   ├─────────────┼────────────────────────────────────────────────────────────────┤\n",
       "    │   │ parent_id   │ d2259d69bcd27dcafc79bad7ff1dbf32                               │\n",
       "    │   │ granularity │ \u001b[1;36m1\u001b[0m                                                              │\n",
       "    │   │ tensor      │ \u001b[1m<\u001b[0m\u001b[1;95mclass\u001b[0m\u001b[39m \u001b[0m\u001b[32m'numpy.ndarray'\u001b[0m\u001b[1m>\u001b[0m in shape \u001b[1m(\u001b[0m\u001b[1;36m626\u001b[0m, \u001b[1;36m1191\u001b[0m, \u001b[1;36m3\u001b[0m\u001b[1m)\u001b[0m, dtype:        │\n",
       "    │   │             │ float32                                                        │\n",
       "    │   │ mime_type   │ image/*                                                        │\n",
       "    │   ╰─────────────┴────────────────────────────────────────────────────────────────╯\n",
       "    └── 📄 \u001b[1mDocument\u001b[0m: \u001b[36mc7b451b4fd3bff885fd9a1225cef378b\u001b[0m\n",
       "        ╭──────────────────┬───────────────────────────────────────────────────────────╮\n",
       "        │\u001b[1m \u001b[0m\u001b[1mAttribute       \u001b[0m\u001b[1m \u001b[0m│\u001b[1m \u001b[0m\u001b[1mValue                                                    \u001b[0m\u001b[1m \u001b[0m│\n",
       "        ├──────────────────┼───────────────────────────────────────────────────────────┤\n",
       "        │ parent_id        │ d2259d69bcd27dcafc79bad7ff1dbf32                          │\n",
       "        │ granularity      │ \u001b[1;36m1\u001b[0m                                                         │\n",
       "        │ mime_type        │ text/plain                                                │\n",
       "        │ text             │ A cat poem                                                │\n",
       "        │                  │ I love cats, I love every kind of cat,                    │\n",
       "        │                  │ I just wanna hug all of them, but I can't,                │\n",
       "        │                  │ I'm thi\u001b[33m...\u001b[0m \u001b[1;2m(\u001b[0m\u001b[2mlength: \u001b[0m\u001b[1;2;36m188\u001b[0m\u001b[1;2m)\u001b[0m                                  │\n",
       "        ╰──────────────────┴───────────────────────────────────────────────────────────╯\n"
      ]
     },
     "metadata": {},
     "output_type": "display_data"
    },
    {
     "data": {
      "text/html": [
       "<pre style=\"white-space:pre;overflow-x:auto;line-height:normal;font-family:Menlo,'DejaVu Sans Mono',consolas,'Courier New',monospace\">📄 <span style=\"font-weight: bold\">Document</span>: <span style=\"color: #008080; text-decoration-color: #008080\">6bf32b3a5314b6bfbc7124e91d98f399</span>\n",
       "╭───────────┬──────────────────────────────────────────────────────────────────╮\n",
       "│<span style=\"font-weight: bold\"> Attribute </span>│<span style=\"font-weight: bold\"> Value                                                            </span>│\n",
       "├───────────┼──────────────────────────────────────────────────────────────────┤\n",
       "│ mime_type │ application/pdf                                                  │\n",
       "│ uri       │ <span style=\"color: #800080; text-decoration-color: #800080\">/home/plusplusaviator/Desktop/python/jina-fun/jina-slack-snippe…</span> │\n",
       "╰───────────┴──────────────────────────────────────────────────────────────────╯\n",
       "└── 💠 <span style=\"font-weight: bold\">Chunks</span>\n",
       "    ├── 📄 <span style=\"font-weight: bold\">Document</span>: <span style=\"color: #008080; text-decoration-color: #008080\">7ebc898a642cb14d88f2c5c9c75ba1e1</span>\n",
       "    │   ╭─────────────┬────────────────────────────────────────────────────────────────╮\n",
       "    │   │<span style=\"font-weight: bold\"> Attribute   </span>│<span style=\"font-weight: bold\"> Value                                                          </span>│\n",
       "    │   ├─────────────┼────────────────────────────────────────────────────────────────┤\n",
       "    │   │ parent_id   │ 6bf32b3a5314b6bfbc7124e91d98f399                               │\n",
       "    │   │ granularity │ <span style=\"color: #008080; text-decoration-color: #008080; font-weight: bold\">1</span>                                                              │\n",
       "    │   │ tensor      │ <span style=\"font-weight: bold\">&lt;</span><span style=\"color: #ff00ff; text-decoration-color: #ff00ff; font-weight: bold\">class</span><span style=\"color: #000000; text-decoration-color: #000000\"> </span><span style=\"color: #008000; text-decoration-color: #008000\">'numpy.ndarray'</span><span style=\"font-weight: bold\">&gt;</span> in shape <span style=\"font-weight: bold\">(</span><span style=\"color: #008080; text-decoration-color: #008080; font-weight: bold\">233</span>, <span style=\"color: #008080; text-decoration-color: #008080; font-weight: bold\">400</span>, <span style=\"color: #008080; text-decoration-color: #008080; font-weight: bold\">3</span><span style=\"font-weight: bold\">)</span>, dtype: float32 │\n",
       "    │   │ mime_type   │ image/*                                                        │\n",
       "    │   ╰─────────────┴────────────────────────────────────────────────────────────────╯\n",
       "    ├── 📄 <span style=\"font-weight: bold\">Document</span>: <span style=\"color: #008080; text-decoration-color: #008080\">e08c80e6377e4228a132e4d294f3fffc</span>\n",
       "    │   ╭─────────────┬────────────────────────────────────────────────────────────────╮\n",
       "    │   │<span style=\"font-weight: bold\"> Attribute   </span>│<span style=\"font-weight: bold\"> Value                                                          </span>│\n",
       "    │   ├─────────────┼────────────────────────────────────────────────────────────────┤\n",
       "    │   │ parent_id   │ 6bf32b3a5314b6bfbc7124e91d98f399                               │\n",
       "    │   │ granularity │ <span style=\"color: #008080; text-decoration-color: #008080; font-weight: bold\">1</span>                                                              │\n",
       "    │   │ mime_type   │ text/plain                                                     │\n",
       "    │   │ text        │ Anatomy of the Somatosensory System                            │\n",
       "    │   │             │ <span style=\"color: #008080; text-decoration-color: #008080; font-weight: bold\">1</span>                                                              │\n",
       "    │   │             │ F  W                                                           │\n",
       "    │   │             │ ROM IKIBOOKS                                                   │\n",
       "    │   │             │ Our somatosensory system consists of sensors<span style=\"color: #808000; text-decoration-color: #808000\">...</span> <span style=\"color: #7f7f7f; text-decoration-color: #7f7f7f; font-weight: bold\">(</span><span style=\"color: #7f7f7f; text-decoration-color: #7f7f7f\">length: </span><span style=\"color: #7fbfbf; text-decoration-color: #7fbfbf; font-weight: bold\">1606</span><span style=\"color: #7f7f7f; text-decoration-color: #7f7f7f; font-weight: bold\">)</span> │\n",
       "    │   ╰─────────────┴────────────────────────────────────────────────────────────────╯\n",
       "    ├── 📄 <span style=\"font-weight: bold\">Document</span>: <span style=\"color: #008080; text-decoration-color: #008080\">84eb79290998611f1e1a5c3456d5b18e</span>\n",
       "    │   ╭──────────────────┬───────────────────────────────────────────────────────────╮\n",
       "    │   │<span style=\"font-weight: bold\"> Attribute        </span>│<span style=\"font-weight: bold\"> Value                                                     </span>│\n",
       "    │   ├──────────────────┼───────────────────────────────────────────────────────────┤\n",
       "    │   │ parent_id        │ 6bf32b3a5314b6bfbc7124e91d98f399                          │\n",
       "    │   │ granularity      │ <span style=\"color: #008080; text-decoration-color: #008080; font-weight: bold\">1</span>                                                         │\n",
       "    │   │ mime_type        │ text/plain                                                │\n",
       "    │   │ text             │ From Wikibooks                                            │\n",
       "    │   │                  │ Figure <span style=\"color: #008080; text-decoration-color: #008080; font-weight: bold\">2</span>: Mammalian muscle                                │\n",
       "    │   │                  │ spindle showing typical position                          │\n",
       "    │   │                  │ in a muscle <span style=\"font-weight: bold\">(</span>left<span style=\"font-weight: bold\">)</span>, neuro<span style=\"color: #808000; text-decoration-color: #808000\">...</span> <span style=\"color: #7f7f7f; text-decoration-color: #7f7f7f; font-weight: bold\">(</span><span style=\"color: #7f7f7f; text-decoration-color: #7f7f7f\">length: </span><span style=\"color: #7fbfbf; text-decoration-color: #7fbfbf; font-weight: bold\">1676</span><span style=\"color: #7f7f7f; text-decoration-color: #7f7f7f; font-weight: bold\">)</span>               │\n",
       "    │   ╰──────────────────┴───────────────────────────────────────────────────────────╯\n",
       "    ├── 📄 <span style=\"font-weight: bold\">Document</span>: <span style=\"color: #008080; text-decoration-color: #008080\">baad5cc93ceefd5a6cedaaed1aae7968</span>\n",
       "    │   ╭────────────────┬─────────────────────────────────────────────────────────────╮\n",
       "    │   │<span style=\"font-weight: bold\"> Attribute      </span>│<span style=\"font-weight: bold\"> Value                                                       </span>│\n",
       "    │   ├────────────────┼─────────────────────────────────────────────────────────────┤\n",
       "    │   │ parent_id      │ 6bf32b3a5314b6bfbc7124e91d98f399                            │\n",
       "    │   │ granularity    │ <span style=\"color: #008080; text-decoration-color: #008080; font-weight: bold\">1</span>                                                           │\n",
       "    │   │ mime_type      │ text/plain                                                  │\n",
       "    │   │ text           │ Anatomy of the Somatosensory System                         │\n",
       "    │   │                │ Rapidly adapting Slowly adapting                            │\n",
       "    │   │                │ Surface receptor <span style=\"color: #800080; text-decoration-color: #800080\">/</span> Hair recepto<span style=\"color: #808000; text-decoration-color: #808000\">...</span> <span style=\"color: #7f7f7f; text-decoration-color: #7f7f7f; font-weight: bold\">(</span><span style=\"color: #7f7f7f; text-decoration-color: #7f7f7f\">length: </span><span style=\"color: #7fbfbf; text-decoration-color: #7fbfbf; font-weight: bold\">2402</span><span style=\"color: #7f7f7f; text-decoration-color: #7f7f7f; font-weight: bold\">)</span>           │\n",
       "    │   ╰────────────────┴─────────────────────────────────────────────────────────────╯\n",
       "    └── 📄 <span style=\"font-weight: bold\">Document</span>: <span style=\"color: #008080; text-decoration-color: #008080\">ac4cc23d1e860bbc0a15524135ae1bad</span>\n",
       "        ╭─────────────────────┬────────────────────────────────────────────────────────╮\n",
       "        │<span style=\"font-weight: bold\"> Attribute           </span>│<span style=\"font-weight: bold\"> Value                                                  </span>│\n",
       "        ├─────────────────────┼────────────────────────────────────────────────────────┤\n",
       "        │ parent_id           │ 6bf32b3a5314b6bfbc7124e91d98f399                       │\n",
       "        │ granularity         │ <span style=\"color: #008080; text-decoration-color: #008080; font-weight: bold\">1</span>                                                      │\n",
       "        │ mime_type           │ text/plain                                             │\n",
       "        │ text                │ From Wikibooks                                         │\n",
       "        │                     │ Force                                                  │\n",
       "        │                     │ control Force <span style=\"font-weight: bold\">(</span>Golgi tendon organ<span style=\"font-weight: bold\">)</span>                     │\n",
       "        │                     │ signal Inter- Force feedback                           │\n",
       "        │                     │ neurons                                                │\n",
       "        │                     │ Externa<span style=\"color: #808000; text-decoration-color: #808000\">...</span> <span style=\"color: #7f7f7f; text-decoration-color: #7f7f7f; font-weight: bold\">(</span><span style=\"color: #7f7f7f; text-decoration-color: #7f7f7f\">length: </span><span style=\"color: #7fbfbf; text-decoration-color: #7fbfbf; font-weight: bold\">1622</span><span style=\"color: #7f7f7f; text-decoration-color: #7f7f7f; font-weight: bold\">)</span>                              │\n",
       "        ╰─────────────────────┴────────────────────────────────────────────────────────╯\n",
       "</pre>\n"
      ],
      "text/plain": [
       "📄 \u001b[1mDocument\u001b[0m: \u001b[36m6bf32b3a5314b6bfbc7124e91d98f399\u001b[0m\n",
       "╭───────────┬──────────────────────────────────────────────────────────────────╮\n",
       "│\u001b[1m \u001b[0m\u001b[1mAttribute\u001b[0m\u001b[1m \u001b[0m│\u001b[1m \u001b[0m\u001b[1mValue                                                           \u001b[0m\u001b[1m \u001b[0m│\n",
       "├───────────┼──────────────────────────────────────────────────────────────────┤\n",
       "│ mime_type │ application/pdf                                                  │\n",
       "│ uri       │ \u001b[35m/home/plusplusaviator/Desktop/python/jina-fun/jina-slack-snippe…\u001b[0m │\n",
       "╰───────────┴──────────────────────────────────────────────────────────────────╯\n",
       "└── 💠 \u001b[1mChunks\u001b[0m\n",
       "    ├── 📄 \u001b[1mDocument\u001b[0m: \u001b[36m7ebc898a642cb14d88f2c5c9c75ba1e1\u001b[0m\n",
       "    │   ╭─────────────┬────────────────────────────────────────────────────────────────╮\n",
       "    │   │\u001b[1m \u001b[0m\u001b[1mAttribute  \u001b[0m\u001b[1m \u001b[0m│\u001b[1m \u001b[0m\u001b[1mValue                                                         \u001b[0m\u001b[1m \u001b[0m│\n",
       "    │   ├─────────────┼────────────────────────────────────────────────────────────────┤\n",
       "    │   │ parent_id   │ 6bf32b3a5314b6bfbc7124e91d98f399                               │\n",
       "    │   │ granularity │ \u001b[1;36m1\u001b[0m                                                              │\n",
       "    │   │ tensor      │ \u001b[1m<\u001b[0m\u001b[1;95mclass\u001b[0m\u001b[39m \u001b[0m\u001b[32m'numpy.ndarray'\u001b[0m\u001b[1m>\u001b[0m in shape \u001b[1m(\u001b[0m\u001b[1;36m233\u001b[0m, \u001b[1;36m400\u001b[0m, \u001b[1;36m3\u001b[0m\u001b[1m)\u001b[0m, dtype: float32 │\n",
       "    │   │ mime_type   │ image/*                                                        │\n",
       "    │   ╰─────────────┴────────────────────────────────────────────────────────────────╯\n",
       "    ├── 📄 \u001b[1mDocument\u001b[0m: \u001b[36me08c80e6377e4228a132e4d294f3fffc\u001b[0m\n",
       "    │   ╭─────────────┬────────────────────────────────────────────────────────────────╮\n",
       "    │   │\u001b[1m \u001b[0m\u001b[1mAttribute  \u001b[0m\u001b[1m \u001b[0m│\u001b[1m \u001b[0m\u001b[1mValue                                                         \u001b[0m\u001b[1m \u001b[0m│\n",
       "    │   ├─────────────┼────────────────────────────────────────────────────────────────┤\n",
       "    │   │ parent_id   │ 6bf32b3a5314b6bfbc7124e91d98f399                               │\n",
       "    │   │ granularity │ \u001b[1;36m1\u001b[0m                                                              │\n",
       "    │   │ mime_type   │ text/plain                                                     │\n",
       "    │   │ text        │ Anatomy of the Somatosensory System                            │\n",
       "    │   │             │ \u001b[1;36m1\u001b[0m                                                              │\n",
       "    │   │             │ F  W                                                           │\n",
       "    │   │             │ ROM IKIBOOKS                                                   │\n",
       "    │   │             │ Our somatosensory system consists of sensors\u001b[33m...\u001b[0m \u001b[1;2m(\u001b[0m\u001b[2mlength: \u001b[0m\u001b[1;2;36m1606\u001b[0m\u001b[1;2m)\u001b[0m │\n",
       "    │   ╰─────────────┴────────────────────────────────────────────────────────────────╯\n",
       "    ├── 📄 \u001b[1mDocument\u001b[0m: \u001b[36m84eb79290998611f1e1a5c3456d5b18e\u001b[0m\n",
       "    │   ╭──────────────────┬───────────────────────────────────────────────────────────╮\n",
       "    │   │\u001b[1m \u001b[0m\u001b[1mAttribute       \u001b[0m\u001b[1m \u001b[0m│\u001b[1m \u001b[0m\u001b[1mValue                                                    \u001b[0m\u001b[1m \u001b[0m│\n",
       "    │   ├──────────────────┼───────────────────────────────────────────────────────────┤\n",
       "    │   │ parent_id        │ 6bf32b3a5314b6bfbc7124e91d98f399                          │\n",
       "    │   │ granularity      │ \u001b[1;36m1\u001b[0m                                                         │\n",
       "    │   │ mime_type        │ text/plain                                                │\n",
       "    │   │ text             │ From Wikibooks                                            │\n",
       "    │   │                  │ Figure \u001b[1;36m2\u001b[0m: Mammalian muscle                                │\n",
       "    │   │                  │ spindle showing typical position                          │\n",
       "    │   │                  │ in a muscle \u001b[1m(\u001b[0mleft\u001b[1m)\u001b[0m, neuro\u001b[33m...\u001b[0m \u001b[1;2m(\u001b[0m\u001b[2mlength: \u001b[0m\u001b[1;2;36m1676\u001b[0m\u001b[1;2m)\u001b[0m               │\n",
       "    │   ╰──────────────────┴───────────────────────────────────────────────────────────╯\n",
       "    ├── 📄 \u001b[1mDocument\u001b[0m: \u001b[36mbaad5cc93ceefd5a6cedaaed1aae7968\u001b[0m\n",
       "    │   ╭────────────────┬─────────────────────────────────────────────────────────────╮\n",
       "    │   │\u001b[1m \u001b[0m\u001b[1mAttribute     \u001b[0m\u001b[1m \u001b[0m│\u001b[1m \u001b[0m\u001b[1mValue                                                      \u001b[0m\u001b[1m \u001b[0m│\n",
       "    │   ├────────────────┼─────────────────────────────────────────────────────────────┤\n",
       "    │   │ parent_id      │ 6bf32b3a5314b6bfbc7124e91d98f399                            │\n",
       "    │   │ granularity    │ \u001b[1;36m1\u001b[0m                                                           │\n",
       "    │   │ mime_type      │ text/plain                                                  │\n",
       "    │   │ text           │ Anatomy of the Somatosensory System                         │\n",
       "    │   │                │ Rapidly adapting Slowly adapting                            │\n",
       "    │   │                │ Surface receptor \u001b[35m/\u001b[0m Hair recepto\u001b[33m...\u001b[0m \u001b[1;2m(\u001b[0m\u001b[2mlength: \u001b[0m\u001b[1;2;36m2402\u001b[0m\u001b[1;2m)\u001b[0m           │\n",
       "    │   ╰────────────────┴─────────────────────────────────────────────────────────────╯\n",
       "    └── 📄 \u001b[1mDocument\u001b[0m: \u001b[36mac4cc23d1e860bbc0a15524135ae1bad\u001b[0m\n",
       "        ╭─────────────────────┬────────────────────────────────────────────────────────╮\n",
       "        │\u001b[1m \u001b[0m\u001b[1mAttribute          \u001b[0m\u001b[1m \u001b[0m│\u001b[1m \u001b[0m\u001b[1mValue                                                 \u001b[0m\u001b[1m \u001b[0m│\n",
       "        ├─────────────────────┼────────────────────────────────────────────────────────┤\n",
       "        │ parent_id           │ 6bf32b3a5314b6bfbc7124e91d98f399                       │\n",
       "        │ granularity         │ \u001b[1;36m1\u001b[0m                                                      │\n",
       "        │ mime_type           │ text/plain                                             │\n",
       "        │ text                │ From Wikibooks                                         │\n",
       "        │                     │ Force                                                  │\n",
       "        │                     │ control Force \u001b[1m(\u001b[0mGolgi tendon organ\u001b[1m)\u001b[0m                     │\n",
       "        │                     │ signal Inter- Force feedback                           │\n",
       "        │                     │ neurons                                                │\n",
       "        │                     │ Externa\u001b[33m...\u001b[0m \u001b[1;2m(\u001b[0m\u001b[2mlength: \u001b[0m\u001b[1;2;36m1622\u001b[0m\u001b[1;2m)\u001b[0m                              │\n",
       "        ╰─────────────────────┴────────────────────────────────────────────────────────╯\n"
      ]
     },
     "metadata": {},
     "output_type": "display_data"
    },
    {
     "name": "stdout",
     "output_type": "stream",
     "text": [
      "imgs len 2\n",
      "txt len 1\n",
      "\n",
      "\n",
      "\n",
      "imgs len 1\n",
      "txt len 4\n",
      "\n",
      "\n",
      "\n"
     ]
    }
   ],
   "source": [
    "from typing import List, Dict\n",
    "from docarray import Document, DocumentArray, dataclass\n",
    "from docarray.typing import Image, Text, JSON\n",
    "from jina import Flow, Executor, requests\n",
    "import pikepdf\n",
    "\n",
    "\n",
    "d1 = Document(uri=\"/home/plusplusaviator/Desktop/python/jina-fun/jina-slack-snippets/data/pdf/cats_are_awesome.pdf\")\n",
    "d2 = Document(uri=\"/home/plusplusaviator/Desktop/python/jina-fun/jina-slack-snippets/data/pdf/somatosensory.pdf\")\n",
    "docs = DocumentArray([d1, d2])\n",
    "\n",
    "\n",
    "@dataclass\n",
    "class PDFPage:\n",
    "    images: List[Image]\n",
    "    texts: List[Text]\n",
    "\n",
    "# pdf_executor = Executor.from_hub(\"jinahub://PDFSegmenter\")\n",
    "# resp = pdf_executor.craft(docs)\n",
    "# print(f'{[c.mime_type for c in resp[0].chunks]}')\n",
    "\n",
    "f = Flow().add(\n",
    "    uses='jinahub://PDFSegmenter',\n",
    ")\n",
    "with f:\n",
    "    resp = f.post(on='/craft', inputs=docs) # returns -> documentarray with 2 documents (1 document in documentarray per pdf)\n",
    "    print(resp)\n",
    "    print(type(resp)) # documentarrayinmemory\n",
    "    print(len(resp)) # 2\n",
    "    for idx, doc in enumerate(resp):\n",
    "        for chunk in doc.chunks:\n",
    "            print(f\">pdf #: {idx} - mime_type: {chunk.mime_type}\")\n",
    "    # print(f'{[c.mime_type for c in resp[0].chunks]}')\n",
    "\n",
    "resp.summary()\n",
    "print(\"--\\n\\n\\n\")\n",
    "resp[0].summary()\n",
    "resp[1].summary()\n",
    "\n",
    "final = []\n",
    "for d in resp:\n",
    "    obj = PDFPage(images=[], texts=[])\n",
    "    for chunk in d.chunks:\n",
    "        assert d.id == chunk.parent_id\n",
    "        if chunk.mime_type == \"image/*\":\n",
    "            obj.images.append(chunk.tensor)\n",
    "        else:\n",
    "            obj.texts.append(chunk.text)\n",
    "    final.append(obj)\n",
    "    # print(obj)\n",
    "# print(final)\n",
    "\n",
    "# resp.plot_image_sprites()\n",
    "for dc in final:\n",
    "    # print(dc)\n",
    "    print(f\"imgs len {len(dc.images)}\")\n",
    "    print(f\"txt len {len(dc.texts)}\")\n",
    "    print(\"\\n\\n\")\n"
   ]
  },
  {
   "cell_type": "code",
   "execution_count": null,
   "id": "e31aeade",
   "metadata": {},
   "outputs": [],
   "source": []
  }
 ],
 "metadata": {
  "interpreter": {
   "hash": "02fbe6b983a44fd1bafe31dd2a7a0f98bb7a093f414b1df152f78f7e72ca3180"
  },
  "kernelspec": {
   "display_name": "Python 3.8.5 ('venv': venv)",
   "language": "python",
   "name": "python3"
  },
  "language_info": {
   "codemirror_mode": {
    "name": "ipython",
    "version": 3
   },
   "file_extension": ".py",
   "mimetype": "text/x-python",
   "name": "python",
   "nbconvert_exporter": "python",
   "pygments_lexer": "ipython3",
   "version": "3.8.5"
  }
 },
 "nbformat": 4,
 "nbformat_minor": 5
}
